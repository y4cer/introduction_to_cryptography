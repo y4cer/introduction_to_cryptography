{
 "cells": [
  {
   "cell_type": "markdown",
   "metadata": {},
   "source": [
    "# Lab 3"
   ]
  },
  {
   "cell_type": "markdown",
   "metadata": {},
   "source": [
    "This time we'll get familiar with Python data types and one cryptographic \n",
    "library"
   ]
  },
  {
   "cell_type": "code",
   "execution_count": 2,
   "metadata": {
    "vscode": {
     "languageId": "python"
    }
   },
   "outputs": [],
   "source": [
    "# %pip install pycryptodome"
   ]
  },
  {
   "cell_type": "markdown",
   "metadata": {},
   "source": [
    "Above you can see one of the reasons why I advise you to use the SageMath instead \n",
    "pf python."
   ]
  },
  {
   "cell_type": "markdown",
   "metadata": {},
   "source": [
    "## Python data types we are going to work with"
   ]
  },
  {
   "cell_type": "code",
   "execution_count": 3,
   "metadata": {
    "vscode": {
     "languageId": "python"
    }
   },
   "outputs": [
    {
     "data": {
      "text/plain": [
       "<class 'bytearray'>"
      ]
     },
     "execution_count": 3,
     "metadata": {},
     "output_type": "execute_result"
    }
   ],
   "source": [
    "# data types we are going to work with are\n",
    "int\n",
    "str\n",
    "bytes \n",
    "bytearray"
   ]
  },
  {
   "cell_type": "markdown",
   "metadata": {},
   "source": [
    "Firstly, let us see how can we work with integers in Python."
   ]
  },
  {
   "cell_type": "code",
   "execution_count": 4,
   "metadata": {
    "vscode": {
     "languageId": "python"
    }
   },
   "outputs": [
    {
     "ename": "OverflowError",
     "evalue": "integer division result too large for a float",
     "output_type": "error",
     "traceback": [
      "\u001b[0;31m---------------------------------------------------------------------------\u001b[0m",
      "\u001b[0;31mOverflowError\u001b[0m                             Traceback (most recent call last)",
      "Cell \u001b[0;32mIn[4], line 3\u001b[0m\n\u001b[1;32m      1\u001b[0m \u001b[38;5;66;03m# The reason why I don't like ints in Python\u001b[39;00m\n\u001b[1;32m      2\u001b[0m long_long_int \u001b[38;5;241m=\u001b[39m \u001b[38;5;28mint\u001b[39m(Integer(\u001b[38;5;241m2\u001b[39m)\u001b[38;5;241m*\u001b[39m\u001b[38;5;241m*\u001b[39mInteger(\u001b[38;5;241m10000000\u001b[39m) \u001b[38;5;241m-\u001b[39m Integer(\u001b[38;5;241m1\u001b[39m))\n\u001b[0;32m----> 3\u001b[0m \u001b[43mlong_long_int\u001b[49m\u001b[43m \u001b[49m\u001b[38;5;241;43m/\u001b[39;49m\u001b[43m \u001b[49m\u001b[38;5;28;43mint\u001b[39;49m\u001b[43m(\u001b[49m\u001b[43mInteger\u001b[49m\u001b[43m(\u001b[49m\u001b[38;5;241;43m123\u001b[39;49m\u001b[43m)\u001b[49m\u001b[43m)\u001b[49m\n",
      "\u001b[0;31mOverflowError\u001b[0m: integer division result too large for a float"
     ]
    }
   ],
   "source": [
    "# The reason why I don't like ints in Python\n",
    "long_long_int = int(2**10000000 - 1)\n",
    "long_long_int / int(123)"
   ]
  },
  {
   "cell_type": "code",
   "execution_count": 5,
   "metadata": {
    "vscode": {
     "languageId": "python"
    }
   },
   "outputs": [
    {
     "name": "stdout",
     "output_type": "stream",
     "text": [
      "3 51\n"
     ]
    }
   ],
   "source": [
    "# int to string and vice versa is obvious:\n",
    "import math\n",
    "e_str = str(math.ceil(math.e))\n",
    "e_ceil = int(e_str + e_str, base=16)\n",
    "\n",
    "print(e_str, e_ceil)"
   ]
  },
  {
   "cell_type": "code",
   "execution_count": 6,
   "metadata": {
    "vscode": {
     "languageId": "python"
    }
   },
   "outputs": [
    {
     "data": {
      "text/plain": [
       "b'\\xc8'"
      ]
     },
     "execution_count": 6,
     "metadata": {},
     "output_type": "execute_result"
    }
   ],
   "source": [
    "# how do we transform an integer into bytes?\n",
    "a = int(2*100)\n",
    "a.to_bytes(1)"
   ]
  },
  {
   "cell_type": "code",
   "execution_count": 13,
   "metadata": {
    "vscode": {
     "languageId": "python"
    }
   },
   "outputs": [
    {
     "name": "stdout",
     "output_type": "stream",
     "text": [
      "b'\\x02\\xbc'\n",
      "int too big to convert\n",
      "b'\\x00\\x00\\x00\\x00\\x00\\x00\\x00\\x00\\x02\\xbc'\n"
     ]
    }
   ],
   "source": [
    "# ok, but if we want more?\n",
    "a = int(2*100 + 500)\n",
    "# NB: by default, the byteorder is big-endian\n",
    "print(a.to_bytes(2))\n",
    "\n",
    "# if you specify the bytearray length less than the actual int, you'll get \n",
    "# an error. If the specified length is more than the length of the int, the \n",
    "# result will be padded with \\x00\n",
    "\n",
    "try:\n",
    "    a.to_bytes(1)\n",
    "except OverflowError as e:\n",
    "    print(e)\n",
    "\n",
    "a_byte = a.to_bytes(10)\n",
    "\n",
    "print(a_byte)"
   ]
  },
  {
   "cell_type": "markdown",
   "metadata": {},
   "source": [
    "And how do we get an int from the bytestring?"
   ]
  },
  {
   "cell_type": "code",
   "execution_count": 12,
   "metadata": {
    "vscode": {
     "languageId": "python"
    }
   },
   "outputs": [
    {
     "name": "stdout",
     "output_type": "stream",
     "text": [
      "700\n"
     ]
    },
    {
     "data": {
      "text/plain": [
       "True"
      ]
     },
     "execution_count": 12,
     "metadata": {},
     "output_type": "execute_result"
    }
   ],
   "source": [
    "a == int.from_bytes(a_byte, byteorder=\"big\")"
   ]
  },
  {
   "cell_type": "markdown",
   "metadata": {},
   "source": [
    "We need to prepare some tools before we work with the RSA, Diffie-Hellman and \n",
    "other cryptographic staff, so"
   ]
  },
  {
   "cell_type": "code",
   "execution_count": 15,
   "metadata": {
    "vscode": {
     "languageId": "python"
    }
   },
   "outputs": [],
   "source": [
    "import Crypto.Util.number as number"
   ]
  },
  {
   "cell_type": "markdown",
   "metadata": {},
   "source": [
    "## Working with random integers"
   ]
  },
  {
   "cell_type": "code",
   "execution_count": null,
   "metadata": {
    "vscode": {
     "languageId": "python"
    }
   },
   "outputs": [],
   "source": [
    "N = 1024\n",
    "\n",
    "# The difference between these two is that r1 is AT MOST N bits, while r2 is \n",
    "# exactly N bits\n",
    "r1 = number.getRandomInteger(N)\n",
    "r2 = number.getRandomNBitInteger(N)"
   ]
  },
  {
   "cell_type": "code",
   "execution_count": 19,
   "metadata": {
    "vscode": {
     "languageId": "python"
    }
   },
   "outputs": [
    {
     "data": {
      "text/plain": [
       "True"
      ]
     },
     "execution_count": 19,
     "metadata": {},
     "output_type": "execute_result"
    }
   ],
   "source": [
    "# obtain a random prime int with bit length 1024\n",
    "p1 = number.getPrime(N)\n",
    "# what is e??\n",
    "p2 = number.getStrongPrime(N, e=2**16 + 1)\n",
    "\n",
    "# Check if it is prime\n",
    "number.isPrime(p1, false_positive_prob=1e-10)\n",
    "number.isPrime(p2, false_positive_prob=1e-10)"
   ]
  }
 ],
 "metadata": {
  "kernelspec": {
   "display_name": "SageMath 10.1",
   "language": "sage",
   "name": "sagemath"
  },
  "language_info": {
   "codemirror_mode": {
    "name": "ipython",
    "version": 3
   },
   "file_extension": ".py",
   "mimetype": "text/x-python",
   "name": "sage",
   "nbconvert_exporter": "python",
   "pygments_lexer": "ipython3",
   "version": "3.11.5"
  }
 },
 "nbformat": 4,
 "nbformat_minor": 2
}
