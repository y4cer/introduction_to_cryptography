{
 "cells": [
  {
   "cell_type": "markdown",
   "metadata": {},
   "source": [
    "# Lab2\n",
    "\n",
    "In this notebook you are going to practice with groups."
   ]
  },
  {
   "cell_type": "code",
   "execution_count": 1,
   "metadata": {},
   "outputs": [],
   "source": [
    "from sage.all import *"
   ]
  },
  {
   "cell_type": "markdown",
   "metadata": {},
   "source": [
    "Let us look inside some groups.\n",
    "\n",
    "**Ring** is the abelian group under addition (usually denoted as $+$) and\n",
    "monoid under multiplication multiplication (usually denoted as $\\cdot$).\n",
    "\n",
    "**Monoid** is the algebraic structure which ensures only the existense of the \n",
    "identity element and the associativity property.\n",
    " "
   ]
  },
  {
   "cell_type": "code",
   "execution_count": 6,
   "metadata": {},
   "outputs": [
    {
     "data": {
      "text/plain": [
       "Ring of integers modulo 8"
      ]
     },
     "execution_count": 6,
     "metadata": {},
     "output_type": "execute_result"
    }
   ],
   "source": [
    "Z8 = Integers(8)\n",
    "Z8"
   ]
  },
  {
   "cell_type": "code",
   "execution_count": 8,
   "metadata": {},
   "outputs": [
    {
     "data": {
      "text/plain": [
       "[0, 1, 2, 3, 4, 5, 6, 7]"
      ]
     },
     "execution_count": 8,
     "metadata": {},
     "output_type": "execute_result"
    }
   ],
   "source": [
    "# All integers modulo 8\n",
    "\n",
    "Z8.list()"
   ]
  },
  {
   "cell_type": "code",
   "execution_count": 9,
   "metadata": {},
   "outputs": [
    {
     "data": {
      "text/plain": [
       "+  0 1 2 3 4 5 6 7\n",
       " +----------------\n",
       "0| 0 1 2 3 4 5 6 7\n",
       "1| 1 2 3 4 5 6 7 0\n",
       "2| 2 3 4 5 6 7 0 1\n",
       "3| 3 4 5 6 7 0 1 2\n",
       "4| 4 5 6 7 0 1 2 3\n",
       "5| 5 6 7 0 1 2 3 4\n",
       "6| 6 7 0 1 2 3 4 5\n",
       "7| 7 0 1 2 3 4 5 6\n"
      ]
     },
     "execution_count": 9,
     "metadata": {},
     "output_type": "execute_result"
    }
   ],
   "source": [
    "# SageMath can build the Cayley tables for the groups!\n",
    "\n",
    "Z8.addition_table(names=\"elements\")"
   ]
  },
  {
   "cell_type": "markdown",
   "metadata": {},
   "source": [
    "One of the group properties that must satisfy is the existence of the inverse\n",
    "element. It is quite easy to find an inverse when the group operation is \n",
    "addition:"
   ]
  },
  {
   "cell_type": "code",
   "execution_count": 2,
   "metadata": {},
   "outputs": [],
   "source": [
    "# Let us work with \\mathbb{R}\n",
    "a = 1.552313\n",
    "a_inv = -a\n",
    "e = 0\n",
    "assert a + a_inv == e"
   ]
  },
  {
   "cell_type": "markdown",
   "metadata": {},
   "source": [
    "But what happens if we look inside other groups?"
   ]
  },
  {
   "cell_type": "code",
   "execution_count": 3,
   "metadata": {},
   "outputs": [
    {
     "name": "stdout",
     "output_type": "stream",
     "text": [
      "2\n"
     ]
    }
   ],
   "source": [
    "n = 7\n",
    "M = IntegerModRing(n)\n",
    "\n",
    "a = M(3)\n",
    "b = M(4)\n",
    "\n",
    "# How does that work?\n",
    "# How can we find the inverse element in the ring modulo n?\n",
    "print(1 / b)"
   ]
  },
  {
   "cell_type": "code",
   "execution_count": 4,
   "metadata": {},
   "outputs": [
    {
     "ename": "ZeroDivisionError",
     "evalue": "inverse of Mod(3, 6) does not exist",
     "output_type": "error",
     "traceback": [
      "\u001b[0;31m---------------------------------------------------------------------------\u001b[0m",
      "\u001b[0;31mZeroDivisionError\u001b[0m                         Traceback (most recent call last)",
      "Cell \u001b[0;32mIn[4], line 7\u001b[0m\n\u001b[1;32m      4\u001b[0m a \u001b[38;5;241m=\u001b[39m M1(Integer(\u001b[38;5;241m3\u001b[39m))\n\u001b[1;32m      5\u001b[0m b \u001b[38;5;241m=\u001b[39m M1(Integer(\u001b[38;5;241m2\u001b[39m))\n\u001b[0;32m----> 7\u001b[0m \u001b[38;5;28mprint\u001b[39m(\u001b[43mInteger\u001b[49m\u001b[43m(\u001b[49m\u001b[38;5;241;43m1\u001b[39;49m\u001b[43m)\u001b[49m\u001b[43m \u001b[49m\u001b[38;5;241;43m/\u001b[39;49m\u001b[43m \u001b[49m\u001b[43ma\u001b[49m)\n\u001b[1;32m      8\u001b[0m \u001b[38;5;28mprint\u001b[39m(Integer(\u001b[38;5;241m1\u001b[39m) \u001b[38;5;241m/\u001b[39m b)\n",
      "File \u001b[0;32m/usr/lib/python3.11/site-packages/sage/rings/integer.pyx:2030\u001b[0m, in \u001b[0;36msage.rings.integer.Integer.__truediv__ (build/cythonized/sage/rings/integer.c:14187)\u001b[0;34m()\u001b[0m\n\u001b[1;32m   2028\u001b[0m         return y\n\u001b[1;32m   2029\u001b[0m \n\u001b[0;32m-> 2030\u001b[0m     return coercion_model.bin_op(left, right, operator.truediv)\n\u001b[1;32m   2031\u001b[0m \n\u001b[1;32m   2032\u001b[0m cpdef _div_(self, right):\n",
      "File \u001b[0;32m/usr/lib/python3.11/site-packages/sage/structure/coerce.pyx:1225\u001b[0m, in \u001b[0;36msage.structure.coerce.CoercionModel.bin_op (build/cythonized/sage/structure/coerce.c:10828)\u001b[0;34m()\u001b[0m\n\u001b[1;32m   1223\u001b[0m     self._record_exception()\n\u001b[1;32m   1224\u001b[0m else:\n\u001b[0;32m-> 1225\u001b[0m     return PyObject_CallObject(op, xy)\n\u001b[1;32m   1226\u001b[0m \n\u001b[1;32m   1227\u001b[0m if op is mul:\n",
      "File \u001b[0;32m/usr/lib/python3.11/site-packages/sage/structure/element.pyx:1730\u001b[0m, in \u001b[0;36msage.structure.element.Element.__truediv__ (build/cythonized/sage/structure/element.c:13269)\u001b[0;34m()\u001b[0m\n\u001b[1;32m   1728\u001b[0m cdef int cl = classify_elements(left, right)\n\u001b[1;32m   1729\u001b[0m if HAVE_SAME_PARENT(cl):\n\u001b[0;32m-> 1730\u001b[0m     return (<Element>left)._div_(right)\n\u001b[1;32m   1731\u001b[0m if BOTH_ARE_ELEMENT(cl):\n\u001b[1;32m   1732\u001b[0m     return coercion_model.bin_op(left, right, truediv)\n",
      "File \u001b[0;32m/usr/lib/python3.11/site-packages/sage/rings/finite_rings/integer_mod.pyx:2641\u001b[0m, in \u001b[0;36msage.rings.finite_rings.integer_mod.IntegerMod_int._div_ (build/cythonized/sage/rings/finite_rings/integer_mod.c:29531)\u001b[0;34m()\u001b[0m\n\u001b[1;32m   2639\u001b[0m right_inverse = self.__modulus.inverses[(<IntegerMod_int>right).ivalue]\n\u001b[1;32m   2640\u001b[0m if right_inverse is None:\n\u001b[0;32m-> 2641\u001b[0m     raise ZeroDivisionError(f\"inverse of Mod({right}, {self.__modulus.sageInteger}) does not exist\")\n\u001b[1;32m   2642\u001b[0m else:\n\u001b[1;32m   2643\u001b[0m     return self._new_c((self.ivalue * (<IntegerMod_int>right_inverse).ivalue) % self.__modulus.int32)\n",
      "\u001b[0;31mZeroDivisionError\u001b[0m: inverse of Mod(3, 6) does not exist"
     ]
    }
   ],
   "source": [
    "m = 6\n",
    "M1 = IntegerModRing(m)\n",
    "\n",
    "a = M1(3)\n",
    "b = M1(2)\n",
    "\n",
    "print(1 / a)\n",
    "print(1 / b)"
   ]
  },
  {
   "cell_type": "markdown",
   "metadata": {},
   "source": [
    "Ooopsie daisy...\n",
    "\n",
    "But what exactly happened?\n",
    "\n",
    "Only in integer rings modulo prime number every number has an inverse element in\n",
    "them. In case of integer ring modulo 6 (later we shall write Z/6Z) some elements\n",
    "multiply to zero."
   ]
  },
  {
   "cell_type": "code",
   "execution_count": 5,
   "metadata": {},
   "outputs": [
    {
     "data": {
      "text/plain": [
       "*  0 1 2 3 4 5\n",
       " +------------\n",
       "0| 0 0 0 0 0 0\n",
       "1| 0 1 2 3 4 5\n",
       "2| 0 2 4 0 2 4\n",
       "3| 0 3 0 3 0 3\n",
       "4| 0 4 2 0 4 2\n",
       "5| 0 5 4 3 2 1\n"
      ]
     },
     "execution_count": 5,
     "metadata": {},
     "output_type": "execute_result"
    }
   ],
   "source": [
    "# let us look at the multiplication table of Z/6Z\n",
    "M1.multiplication_table(names=\"digits\")"
   ]
  },
  {
   "cell_type": "markdown",
   "metadata": {},
   "source": [
    "We can see that numbers that have common divisors with `m` do not have\n",
    "multiplicative inverse modulo `m`."
   ]
  }
 ],
 "metadata": {
  "kernelspec": {
   "display_name": "SageMath 10.1",
   "language": "sage",
   "name": "sagemath"
  },
  "language_info": {
   "codemirror_mode": {
    "name": "ipython",
    "version": 3
   },
   "file_extension": ".py",
   "mimetype": "text/x-python",
   "name": "python",
   "nbconvert_exporter": "python",
   "pygments_lexer": "ipython3",
   "version": "3.11.5"
  }
 },
 "nbformat": 4,
 "nbformat_minor": 2
}
