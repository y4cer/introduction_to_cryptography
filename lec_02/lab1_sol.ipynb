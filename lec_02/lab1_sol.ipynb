{
 "cells": [
  {
   "cell_type": "markdown",
   "metadata": {},
   "source": [
    "# 2nd task solution is SageMath"
   ]
  },
  {
   "cell_type": "code",
   "execution_count": null,
   "metadata": {
    "vscode": {
     "languageId": "python"
    }
   },
   "outputs": [],
   "source": [
    "#        \\begin{eqnarray*}\n",
    "#            4x \\equiv 2 \\bmod 3 \\\\\n",
    "#            7x \\equiv 4 \\bmod 9 \\\\\n",
    "#            5x \\equiv 3 \\bmod 11\n",
    "#        \\end{eqnarray*}"
   ]
  },
  {
   "cell_type": "code",
   "execution_count": 5,
   "metadata": {
    "vscode": {
     "languageId": "python"
    }
   },
   "outputs": [
    {
     "name": "stdout",
     "output_type": "stream",
     "text": [
      "First: \t2\n",
      "Second:\t4\n",
      "Third: \t3\n"
     ]
    }
   ],
   "source": [
    "x1 = 2 * pow(4, -1, 3)\n",
    "print(f\"First: \\t{4 * x1 % 3}\")\n",
    "\n",
    "x2 = 4 * pow(7, -1, 9)\n",
    "print(f\"Second:\\t{7 * x2 % 9}\")\n",
    "\n",
    "x3 = 3 * pow(5, -1, 11)\n",
    "print(f\"Third: \\t{5 * x3 % 11}\")"
   ]
  },
  {
   "cell_type": "markdown",
   "metadata": {},
   "source": [
    "# 3rd task exhaustive search solution"
   ]
  },
  {
   "cell_type": "code",
   "execution_count": 7,
   "metadata": {
    "vscode": {
     "languageId": "python"
    }
   },
   "outputs": [
    {
     "name": "stdout",
     "output_type": "stream",
     "text": [
      "1 has exactly 1 divisors\n",
      "2 has exactly 2 divisors\n",
      "4 has exactly 3 divisors\n",
      "6 has exactly 4 divisors\n",
      "16 has exactly 5 divisors\n",
      "12 has exactly 6 divisors\n",
      "64 has exactly 7 divisors\n",
      "24 has exactly 8 divisors\n"
     ]
    }
   ],
   "source": [
    "for k in range(1, 8 + 1):\n",
    "    i = 1\n",
    "    while True:\n",
    "        if len(divisors(i)) == k:\n",
    "            print(f\"{i} has exactly {k} divisors\")\n",
    "            break\n",
    "        i += 1\n"
   ]
  }
 ],
 "metadata": {
  "kernelspec": {
   "display_name": "SageMath 10.1",
   "language": "sage",
   "name": "sagemath"
  },
  "language_info": {
   "codemirror_mode": {
    "name": "ipython",
    "version": 3
   },
   "file_extension": ".py",
   "mimetype": "text/x-python",
   "name": "sage",
   "nbconvert_exporter": "python",
   "pygments_lexer": "ipython3",
   "version": "3.11.5"
  }
 },
 "nbformat": 4,
 "nbformat_minor": 2
}
