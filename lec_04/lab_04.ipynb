{
 "cells": [
  {
   "cell_type": "markdown",
   "metadata": {},
   "source": [
    "# Lab 4"
   ]
  },
  {
   "cell_type": "markdown",
   "metadata": {},
   "source": [
    "This time we will get familiar with some hash functions as well as implement the \n",
    "birthday attack on the shortened CRC32 checksum algorithm"
   ]
  },
  {
   "cell_type": "markdown",
   "metadata": {},
   "source": [
    "---"
   ]
  },
  {
   "cell_type": "markdown",
   "metadata": {},
   "source": [
    "Let us first see how can we work with cryptographic hash functions in Python"
   ]
  },
  {
   "cell_type": "code",
   "execution_count": 1,
   "metadata": {},
   "outputs": [],
   "source": [
    "import hashlib"
   ]
  },
  {
   "cell_type": "code",
   "execution_count": 2,
   "metadata": {},
   "outputs": [
    {
     "name": "stdout",
     "output_type": "stream",
     "text": [
      "253b27734439cc9ccda1d6efe98ab811d181a848a28b2291f791a96d738bc2a6\n",
      "7d40d7967b88e6b398ad2cac56532cdf\n",
      "f94cd00d1c1dd6984b24053c587f90c4e5c29d47eda880afe7ae7d944d6047b9\n",
      "fa0b6fb12d9033c711af84ed6554d0bff2da22defb6035badc481d6e4b02e902d1263deb3ae483ae0e7aebbab5c7ef048e40b1b6365d42f8583ae680f3e5a1b9\n"
     ]
    }
   ],
   "source": [
    "message = b\"I am the message\"\n",
    "\n",
    "sha256_digest = hashlib.sha256(message).hexdigest()\n",
    "md5_digest = hashlib.md5(message).hexdigest()\n",
    "sha3_256_digest = hashlib.sha3_256(message).hexdigest()\n",
    "blake2b_digest = hashlib.blake2b(message).hexdigest()\n",
    "\n",
    "print(f\"{sha256_digest}\")\n",
    "print(f\"{md5_digest}\")\n",
    "print(f\"{sha3_256_digest}\")\n",
    "print(f\"{blake2b_digest}\")"
   ]
  },
  {
   "cell_type": "code",
   "execution_count": 3,
   "metadata": {},
   "outputs": [],
   "source": [
    "import binascii"
   ]
  },
  {
   "cell_type": "code",
   "execution_count": 4,
   "metadata": {},
   "outputs": [
    {
     "data": {
      "text/plain": [
       "2682236449"
      ]
     },
     "execution_count": 4,
     "metadata": {},
     "output_type": "execute_result"
    }
   ],
   "source": [
    "hash = binascii.crc32(message)\n",
    "hash"
   ]
  },
  {
   "cell_type": "markdown",
   "metadata": {},
   "source": [
    "Not optimized version of the attack is presented below"
   ]
  },
  {
   "cell_type": "code",
   "execution_count": 5,
   "metadata": {},
   "outputs": [
    {
     "name": "stderr",
     "output_type": "stream",
     "text": [
      "  0%|          | 131693/4294967296 [00:00<54:21, 1316717.78it/s]"
     ]
    },
    {
     "name": "stderr",
     "output_type": "stream",
     "text": [
      "  0%|          | 16777216/4294967296 [00:12<52:56, 1346917.21it/s]  "
     ]
    },
    {
     "name": "stdout",
     "output_type": "stream",
     "text": [
      "collision found!\n",
      "16300153 16777216 b'\\x00\\x89\\x80\\xcf'\n"
     ]
    },
    {
     "name": "stderr",
     "output_type": "stream",
     "text": [
      "\n"
     ]
    }
   ],
   "source": [
    "import tqdm\n",
    "\n",
    "byte_count = 4\n",
    "\n",
    "attack_dict = {}\n",
    "\n",
    "for i in tqdm.tqdm(range(2 ** 32)):\n",
    "    i_bytes = i.to_bytes(byte_count)\n",
    "    guess = binascii.crc32(i_bytes) & 0xffffff\n",
    "\n",
    "    if guess in attack_dict:\n",
    "        print(\"collision found!\")\n",
    "        print(guess, i, attack_dict[guess])\n",
    "        break\n",
    "    else:\n",
    "        attack_dict[guess] = i_bytes    "
   ]
  },
  {
   "cell_type": "code",
   "execution_count": 7,
   "metadata": {},
   "outputs": [
    {
     "data": {
      "text/plain": [
       "True"
      ]
     },
     "execution_count": 7,
     "metadata": {},
     "output_type": "execute_result"
    }
   ],
   "source": [
    "# There's also one good example of collisions in crc32\n",
    "binascii.crc32(b\"plumless\") == binascii.crc32(b\"buckeroo\")"
   ]
  }
 ],
 "metadata": {
  "kernelspec": {
   "display_name": "SageMath 10.1",
   "language": "sage",
   "name": "sagemath"
  },
  "language_info": {
   "codemirror_mode": {
    "name": "ipython",
    "version": 3
   },
   "file_extension": ".py",
   "mimetype": "text/x-python",
   "name": "python",
   "nbconvert_exporter": "python",
   "pygments_lexer": "ipython3",
   "version": "3.11.5"
  }
 },
 "nbformat": 4,
 "nbformat_minor": 2
}
